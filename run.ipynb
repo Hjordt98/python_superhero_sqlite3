{
 "cells": [
  {
   "cell_type": "markdown",
   "metadata": {},
   "source": [
    "# 1 Database initialization and table creation"
   ]
  },
  {
   "cell_type": "code",
   "execution_count": 15,
   "metadata": {},
   "outputs": [
    {
     "name": "stdout",
     "output_type": "stream",
     "text": [
      "Table already exists.\n"
     ]
    }
   ],
   "source": [
    "import sqlite3\n",
    "\n",
    "# Connect to the SQLite database\n",
    "con = sqlite3.connect('superheroes.db')\n",
    "cur = con.cursor()\n",
    "\n",
    "# Check if the table exists\n",
    "cur.execute(\"SELECT name FROM sqlite_master WHERE type='table' AND name='superheroes'\")\n",
    "if cur.fetchone() is None:\n",
    "    # Create table if it doesn't exist\n",
    "    cur.execute(\"\"\"\n",
    "        CREATE TABLE superheroes (\n",
    "            id INTEGER PRIMARY KEY AUTOINCREMENT,\n",
    "            first_name TEXT NOT NULL,\n",
    "            last_name TEXT NOT NULL,\n",
    "            release_date INTEGER NOT NULL,\n",
    "            hero_name TEXT NOT NULL,\n",
    "            powers TEXT NOT NULL\n",
    "        )\n",
    "    \"\"\")\n",
    "    con.commit()\n",
    "    print(\"Table created.\")    \n",
    "else:\n",
    "    cur.execute(\"\"\"\n",
    "        DROP TABLE superheroes        \n",
    "                \"\"\")\n",
    "    cur.execute(\"\"\"\n",
    "        CREATE TABLE superheroes (\n",
    "            id INTEGER PRIMARY KEY AUTOINCREMENT,\n",
    "            first_name TEXT NOT NULL,\n",
    "            last_name TEXT NOT NULL,\n",
    "            release_date INTEGER NOT NULL,\n",
    "            hero_name TEXT NOT NULL,\n",
    "            powers TEXT NOT NULL\n",
    "        )\n",
    "    \"\"\")\n",
    "    print(\"Table already exists.\")"
   ]
  },
  {
   "cell_type": "markdown",
   "metadata": {},
   "source": [
    "# 2 - insert data to tables"
   ]
  },
  {
   "cell_type": "code",
   "execution_count": 16,
   "metadata": {},
   "outputs": [
    {
     "name": "stdout",
     "output_type": "stream",
     "text": [
      "Data inserted successfully.\n"
     ]
    }
   ],
   "source": [
    "# Insert data into the superheroes table\n",
    "cur.execute(\"\"\"\n",
    "    INSERT INTO superheroes (first_name, last_name, release_date, hero_name, powers)\n",
    "    VALUES (?, ?, ?, ?, ?)\n",
    "\"\"\", ('Clark', 'Kent', 1938, 'Superman', 'Super strength, flight, x-ray vision'))\n",
    "\n",
    "# Commit the changes\n",
    "con.commit()\n",
    "\n",
    "print(\"Data inserted successfully.\")"
   ]
  },
  {
   "cell_type": "markdown",
   "metadata": {},
   "source": [
    "# 3 - data retrieval"
   ]
  },
  {
   "cell_type": "code",
   "execution_count": 17,
   "metadata": {},
   "outputs": [
    {
     "name": "stdout",
     "output_type": "stream",
     "text": [
      "(1, 'Clark', 'Kent', 1938, 'Superman', 'Super strength, flight, x-ray vision')\n"
     ]
    }
   ],
   "source": [
    "# Retrieve data from the superheroes table\n",
    "cur.execute('SELECT * FROM superheroes')\n",
    "rows = cur.fetchall()\n",
    "\n",
    "# Print the retrieved data\n",
    "for row in rows:\n",
    "    print(row)\n",
    "\n",
    "# Close the connection\n",
    "con.close()\n"
   ]
  }
 ],
 "metadata": {
  "kernelspec": {
   "display_name": ".venv",
   "language": "python",
   "name": "python3"
  },
  "language_info": {
   "codemirror_mode": {
    "name": "ipython",
    "version": 3
   },
   "file_extension": ".py",
   "mimetype": "text/x-python",
   "name": "python",
   "nbconvert_exporter": "python",
   "pygments_lexer": "ipython3",
   "version": "3.12.2"
  }
 },
 "nbformat": 4,
 "nbformat_minor": 2
}
