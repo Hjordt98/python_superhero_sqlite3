{
 "cells": [
  {
   "cell_type": "markdown",
   "metadata": {},
   "source": [
    "# Problem 2\n",
    "\n",
    "Task: Create a new table for supervillains with a similar structure and insert some records.\n",
    "\n",
    "- Table name: supervillains\n",
    "- Fields: id, first_name, last_name, debut_year, villain_name, powers"
   ]
  },
  {
   "cell_type": "markdown",
   "metadata": {},
   "source": [
    "### Database Creation"
   ]
  },
  {
   "cell_type": "code",
   "execution_count": 8,
   "metadata": {},
   "outputs": [
    {
     "data": {
      "text/plain": [
       "[('sqlite_sequence',), ('heroes',), ('villains',)]"
      ]
     },
     "execution_count": 8,
     "metadata": {},
     "output_type": "execute_result"
    }
   ],
   "source": [
    "import sqlite3\n",
    "\n",
    "con = sqlite3.connect(\"heroes_villains.db\", timeout=10)\n",
    "cur = con.cursor()\n",
    "    \n",
    "cur.execute(\"SELECT name FROM sqlite_master WHERE type='table'\")\n",
    "tables = cur.fetchall()\n",
    "    \n",
    "for table in tables:\n",
    "    if table [0] != 'sqlite_sequence':    \n",
    "        cur.execute(f\"DROP TABLE IF EXISTS {table[0]}\")\n",
    "        \n",
    "con.commit()\n",
    "\n",
    "cur.execute(\"\"\"\n",
    "        CREATE TABLE heroes (\n",
    "            id INTEGER PRIMARY KEY AUTOINCREMENT,\n",
    "            first_name TEXT NOT NULL,\n",
    "            last_name TEXT NOT NULL,\n",
    "            release_date INTEGER NOT NULL,\n",
    "            hero_name TEXT NOT NULL,\n",
    "            powers TEXT NOT NULL\n",
    "        )\n",
    "    \"\"\")\n",
    "con.commit()\n",
    "\n",
    "cur.execute(\"\"\"\n",
    "        CREATE TABLE villains(\n",
    "            id INTEGER PRIMARY KEY AUTOINCREMENT,\n",
    "            first_name TEXT NOT NULL,\n",
    "            last_name TEXT NOT NULL,\n",
    "            release_date INTEGER NOT NULL,\n",
    "            villain_name TEXT NOT NULL,\n",
    "            powers TEXT NOT NULL\n",
    "        )    \n",
    "    \"\"\")\n",
    "con.commit()\n",
    "\n",
    "res = cur.execute(\"SELECT name FROM sqlite_master\")\n",
    "res.fetchall()"
   ]
  },
  {
   "cell_type": "markdown",
   "metadata": {},
   "source": [
    "### Problem 1 Solution - Create a table for superheroes"
   ]
  },
  {
   "cell_type": "code",
   "execution_count": 9,
   "metadata": {},
   "outputs": [
    {
     "name": "stdout",
     "output_type": "stream",
     "text": [
      "(1, 'Bruce', 'Vayne', 1939, 'Batman', 'Intelligent, Rich, Power Armor')\n",
      "(2, 'Barry', 'Allan', 1940, 'The Flash', 'Superspeed, Lightning Manipulation, Speed Force')\n",
      "(3, 'Tony', 'Stark', 1963, 'Ironman', 'Power Armor, Intelligent, Rich')\n",
      "(4, 'Peter', 'Parker', 1962, 'Spiderman', 'Super Sence, Spiderweb, athletic')\n"
     ]
    }
   ],
   "source": [
    "heroes = [\n",
    "    {'first_name':'Bruce', 'last_name':'Vayne', 'release_date':1939, 'hero_name':'Batman','powers':'Intelligent, Rich, Power Armor'},\n",
    "    {'first_name':'Barry', 'last_name': 'Allan', 'release_date':1940, 'hero_name':'The Flash','powers':'Superspeed, Lightning Manipulation, Speed Force'},\n",
    "    {'first_name':'Tony', 'last_name':'Stark','release_date':1963, 'hero_name':'Ironman','powers':'Power Armor, Intelligent, Rich'},\n",
    "    {'first_name':'Peter', 'last_name':'Parker','release_date':1962,'hero_name':'Spiderman','powers':'Super Sence, Spiderweb, athletic'},\n",
    "]\n",
    "\n",
    "cur.execute(\"SELECT COUNT(*) FROM heroes\")\n",
    "cur_result = cur.fetchone()[0]\n",
    "\n",
    "if cur_result == 0:\n",
    "    for hero in heroes:\n",
    "        cur.execute(\"\"\"\n",
    "                    INSERt INTO heroes(first_name, last_name, release_date, hero_name, powers)\n",
    "                    VALUES (?, ?, ?, ?, ?)\n",
    "                    \"\"\", (hero['first_name'], hero['last_name'], hero['release_date'], hero['hero_name'], hero['powers']))\n",
    "        con.commit()\n",
    "\n",
    "for row in cur.execute(\"SELECT * from heroes\"):\n",
    "    print(row)"
   ]
  },
  {
   "cell_type": "markdown",
   "metadata": {},
   "source": [
    "### problem 2 Solution - create a similar new table for supervillains"
   ]
  },
  {
   "cell_type": "code",
   "execution_count": 10,
   "metadata": {},
   "outputs": [
    {
     "name": "stdout",
     "output_type": "stream",
     "text": [
      "(1, 'Arthur', 'Fleck', 2019, 'Joker', 'Master Manipulator, Chemical Engineer, Master Planner ')\n",
      "(2, 'Eobard', 'Thawne', 1963, 'Reverse Flash', 'Negative Speed Force, Superspeed, Lightning Manipulation')\n",
      "(3, 'Gene', 'Kahn', 1964, 'Mandarin', 'Genius-level Intellect, Master of Martial Arts, Expert Strategist and Tactician')\n",
      "(4, 'Norman', 'Osborn', 1964, 'Green Goblin', 'Superhuman Strength, Superhuman Speed, Superhuman Refelexes')\n"
     ]
    }
   ],
   "source": [
    "villains = [\n",
    "    {'first_name':'Arthur','last_name':'Fleck','release_date':2019,'villain_name':'Joker','powers':'Master Manipulator, Chemical Engineer, Master Planner '},\n",
    "    {'first_name':'Eobard','last_name':'Thawne','release_date':1963,'villain_name':'Reverse Flash','powers':'Negative Speed Force, Superspeed, Lightning Manipulation'},\n",
    "    {'first_name':'Gene','last_name':'Kahn','release_date':1964,'villain_name':'Mandarin','powers':'Genius-level Intellect, Master of Martial Arts, Expert Strategist and Tactician'},\n",
    "    {'first_name':'Norman','last_name':'Osborn','release_date':1964,'villain_name':'Green Goblin','powers':'Superhuman Strength, Superhuman Speed, Superhuman Refelexes'},\n",
    "]\n",
    "\n",
    "cur.execute(\"SELECT COUNT(0) FROM villains\")\n",
    "cur_result = cur.fetchone()[0]\n",
    "\n",
    "if cur_result == 0:\n",
    "    for villain in villains:\n",
    "        cur.execute(\"\"\"\n",
    "            INSERT INTO villains (first_name, last_name, release_date, villain_name, powers)\n",
    "            VALUES (?, ?, ?, ?, ?)        \n",
    "        \"\"\", (villain['first_name'], villain['last_name'], villain['release_date'], villain['villain_name'], villain['powers']))\n",
    "    con.commit()\n",
    "\n",
    "for row in cur.execute(\"SELECT * from villains\"):\n",
    "    print(row) "
   ]
  }
 ],
 "metadata": {
  "kernelspec": {
   "display_name": ".venv",
   "language": "python",
   "name": "python3"
  },
  "language_info": {
   "codemirror_mode": {
    "name": "ipython",
    "version": 3
   },
   "file_extension": ".py",
   "mimetype": "text/x-python",
   "name": "python",
   "nbconvert_exporter": "python",
   "pygments_lexer": "ipython3",
   "version": "3.10.13"
  }
 },
 "nbformat": 4,
 "nbformat_minor": 2
}
