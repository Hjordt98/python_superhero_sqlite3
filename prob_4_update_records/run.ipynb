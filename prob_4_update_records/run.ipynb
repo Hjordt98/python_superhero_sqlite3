{
 "cells": [
  {
   "cell_type": "markdown",
   "metadata": {},
   "source": [
    "# Problem 4"
   ]
  },
  {
   "cell_type": "markdown",
   "metadata": {},
   "source": [
    "Task: Write a script to update the powers of a specific superhero.\n",
    "\n",
    "- Choose a superhero and change their powers.\n",
    "- Make sure to print out the updated record to verify the change.\n"
   ]
  },
  {
   "cell_type": "code",
   "execution_count": 15,
   "metadata": {},
   "outputs": [
    {
     "data": {
      "text/plain": [
       "[('sqlite_sequence',), ('heroes',), ('villains',), ('arch_nemesis',)]"
      ]
     },
     "execution_count": 15,
     "metadata": {},
     "output_type": "execute_result"
    }
   ],
   "source": [
    "import sqlite3\n",
    "\n",
    "con = sqlite3.connect(\"heroes_villains.db\", timeout=10)\n",
    "cur = con.cursor()\n",
    "\n",
    "cur.execute(\"SELECT name FROm sqlite_master WHERE type='table'\")\n",
    "tables = cur.fetchall()\n",
    "\n",
    "for table in tables:\n",
    "    if table[0] != 'sqlite_sequence':\n",
    "        cur.execute(f\"DROP TABLE IF EXISTS {table[0]}\")\n",
    "\n",
    "con.commit()\n",
    "\n",
    "cur.execute(\"\"\"\n",
    "        CREATE TABLE heroes (\n",
    "            hero_id INTEGER PRIMARY KEY AUTOINCREMENT,\n",
    "            first_name TEXT NOT NULL,\n",
    "            last_name TEXT NOT NULL,\n",
    "            release_date INTEGER NOT NULL,\n",
    "            hero_name TEXT NOT NULL,\n",
    "            powers TEXT NOT NULL\n",
    "        )\n",
    "    \"\"\")\n",
    "con.commit()\n",
    "\n",
    "cur.execute(\"\"\"\n",
    "        CREATE TABLE villains(\n",
    "            villain_id INTEGER PRIMARY KEY AUTOINCREMENT,\n",
    "            first_name TEXT NOT NULL,\n",
    "            last_name TEXT NOT NULL,\n",
    "            release_date INTEGER NOT NULL,\n",
    "            villain_name TEXT NOT NULL,\n",
    "            powers TEXT NOT NULL\n",
    "        )\n",
    "    \"\"\")\n",
    "con.commit()\n",
    "\n",
    "cur.execute(\"\"\"\n",
    "        CREATE TABLE arch_nemesis(\n",
    "            id INTEGER PRIMARY KEY AUTOINCREMENT,\n",
    "            hero_id INTEGER NOT NULL,\n",
    "            villain_id INTEGER NOT NULL,\n",
    "            FOREIGN KEY(hero_id) REFERENCES heroes(hero_id)\n",
    "            FOREIGN KEY(villain_id) REFERENCES villains(villain_id)\n",
    "        )\n",
    "\"\"\")\n",
    "con.commit()\n",
    "\n",
    "res = cur.execute(\"SELECT name from sqlite_master\")\n",
    "res.fetchall()"
   ]
  },
  {
   "cell_type": "code",
   "execution_count": 16,
   "metadata": {},
   "outputs": [
    {
     "name": "stdout",
     "output_type": "stream",
     "text": [
      "(1, 'Bruce', 'Vayne', 1939, 'Batman', 'Intelligent, Rich, Power Armor')\n",
      "(2, 'Barry', 'Allan', 1940, 'The Flash', 'Superspeed, Lightning Manipulation, Speed Force')\n",
      "(3, 'Tony', 'Stark', 1963, 'Ironman', 'Power Armor, Intelligent, Rich')\n",
      "(4, 'Peter', 'Parker', 1962, 'Spiderman', 'Super Sence, Spiderweb, athletic')\n"
     ]
    }
   ],
   "source": [
    "heroes = [\n",
    "    {'first_name':'Bruce', 'last_name':'Vayne', 'release_date':1939, 'hero_name':'Batman','powers':'Intelligent, Rich, Power Armor'},\n",
    "    {'first_name':'Barry', 'last_name': 'Allan', 'release_date':1940, 'hero_name':'The Flash','powers':'Superspeed, Lightning Manipulation, Speed Force'},\n",
    "    {'first_name':'Tony', 'last_name':'Stark','release_date':1963, 'hero_name':'Ironman','powers':'Power Armor, Intelligent, Rich'},\n",
    "    {'first_name':'Peter', 'last_name':'Parker','release_date':1962,'hero_name':'Spiderman','powers':'Super Sence, Spiderweb, athletic'},\n",
    "]\n",
    "\n",
    "villains = [\n",
    "    {'first_name':'Arthur','last_name':'Fleck','release_date':2019,'villain_name':'Joker','powers':'Master Manipulator, Chemical Engineer, Master Planner '},\n",
    "    {'first_name':'Eobard','last_name':'Thawne','release_date':1963,'villain_name':'Reverse Flash','powers':'Negative Speed Force, Superspeed, Lightning Manipulation'},\n",
    "    {'first_name':'Gene','last_name':'Kahn','release_date':1964,'villain_name':'Mandarin','powers':'Genius-level Intellect, Master of Martial Arts, Expert Strategist and Tactician'},\n",
    "    {'first_name':'Norman','last_name':'Osborn','release_date':1964,'villain_name':'Green Goblin','powers':'Superhuman Strength, Superhuman Speed, Superhuman Refelexes'},\n",
    "]\n",
    "\n",
    "\n",
    "for hero in heroes:\n",
    "    cur.execute(\"\"\"\n",
    "                INSERt INTO heroes(first_name, last_name, release_date, hero_name, powers)\n",
    "                VALUES (?, ?, ?, ?, ?)\n",
    "                \"\"\", (hero['first_name'], hero['last_name'], hero['release_date'], hero['hero_name'], hero['powers']))\n",
    "    con.commit\n",
    "\n",
    "for villain in villains:\n",
    "    cur.execute(\"\"\"INSERT INTO villains\n",
    "\n",
    "\"\"\")\n",
    "\n",
    "for row in cur.execute(\"SELECT * from heroes\"):\n",
    "    print(row)    "
   ]
  }
 ],
 "metadata": {
  "kernelspec": {
   "display_name": "Python 3",
   "language": "python",
   "name": "python3"
  },
  "language_info": {
   "codemirror_mode": {
    "name": "ipython",
    "version": 3
   },
   "file_extension": ".py",
   "mimetype": "text/x-python",
   "name": "python",
   "nbconvert_exporter": "python",
   "pygments_lexer": "ipython3",
   "version": "3.10.13"
  }
 },
 "nbformat": 4,
 "nbformat_minor": 2
}
