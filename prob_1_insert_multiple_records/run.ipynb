{
 "cells": [
  {
   "cell_type": "markdown",
   "metadata": {},
   "source": [
    "# Problem 1\n",
    "\n",
    "Task: Extend your script to insert multiple superhero records at once.\n",
    "\n",
    "- Create a list of dictionaries where each dictionary represents a superhero.\n",
    "- Insert all superheroes into the database using a single transaction. "
   ]
  },
  {
   "cell_type": "markdown",
   "metadata": {},
   "source": [
    "### Database Creating"
   ]
  },
  {
   "cell_type": "code",
   "execution_count": 11,
   "metadata": {},
   "outputs": [
    {
     "name": "stdout",
     "output_type": "stream",
     "text": [
      "Table already exists.\n"
     ]
    }
   ],
   "source": [
    "import sqlite3\n",
    "\n",
    "# Connect to the SQLite database\n",
    "con = sqlite3.connect('superheroes.db', timeout=10)\n",
    "cur = con.cursor()\n",
    "\n",
    "\n",
    "\n",
    "# Check if the table exists\n",
    "cur.execute(\"SELECT name FROM sqlite_master WHERE type='table' AND name='heroes'\")\n",
    "if cur.fetchone() is None:\n",
    "    # Create table if it doesn't exist\n",
    "    cur.execute(\"\"\"\n",
    "        CREATE TABLE heroes (\n",
    "            id INTEGER PRIMARY KEY AUTOINCREMENT,\n",
    "            first_name TEXT NOT NULL,\n",
    "            last_name TEXT NOT NULL,\n",
    "            release_date INTEGER NOT NULL,\n",
    "            hero_name TEXT NOT NULL,\n",
    "            powers TEXT NOT NULL\n",
    "        )\n",
    "    \"\"\")\n",
    "    #con.commit()\n",
    "    \n",
    "    print(\"Table created.\")    \n",
    "else:\n",
    "    cur.execute(\"\"\"\n",
    "        DROP TABLE heroes        \n",
    "                \"\"\")\n",
    "    cur.execute(\"\"\"\n",
    "        CREATE TABLE heroes (\n",
    "            id INTEGER PRIMARY KEY AUTOINCREMENT,\n",
    "            first_name TEXT NOT NULL,\n",
    "            last_name TEXT NOT NULL,\n",
    "            release_date INTEGER NOT NULL,\n",
    "            hero_name TEXT NOT NULL,\n",
    "            powers TEXT NOT NULL\n",
    "        )\n",
    "    \"\"\")\n",
    "    print(\"Table already exists.\")\n",
    "    con.commit()\n",
    "    \n",
    "   "
   ]
  },
  {
   "cell_type": "markdown",
   "metadata": {},
   "source": [
    "### Problem 1 Soluton - Create a list of dictionaries where each dictionary represents a superhero"
   ]
  },
  {
   "cell_type": "code",
   "execution_count": 12,
   "metadata": {},
   "outputs": [
    {
     "name": "stdout",
     "output_type": "stream",
     "text": [
      "(1, 'Bruce', 'Vayne', 1939, 'Batman', 'Intelligent, Rich, Power Armor')\n",
      "(2, 'Barry', 'Allan', 1940, 'The Flash', 'Superspeed, Lightning Manipulation, Speed Force')\n",
      "(3, 'Tony', 'Stark', 1963, 'Ironman', 'Power Armor, Intelligent, Rich')\n",
      "(4, 'Peter', 'Parker', 1962, 'Spiderman', 'Super Sence, Spiderweb, athletic')\n"
     ]
    }
   ],
   "source": [
    "heroes = [\n",
    "    {'first_name':'Bruce', 'last_name':'Vayne', 'release_date':1939, 'hero_name':'Batman','powers':'Intelligent, Rich, Power Armor'},\n",
    "    {'first_name':'Barry', 'last_name': 'Allan', 'release_date':1940, 'hero_name':'The Flash','powers':'Superspeed, Lightning Manipulation, Speed Force'},\n",
    "    {'first_name':'Tony', 'last_name':'Stark','release_date':1963, 'hero_name':'Ironman','powers':'Power Armor, Intelligent, Rich'},\n",
    "    {'first_name':'Peter', 'last_name':'Parker','release_date':1962,'hero_name':'Spiderman','powers':'Super Sence, Spiderweb, athletic'},\n",
    "]\n",
    "\n",
    "cur.execute(\"SELECT COUNT(*) FROM heroes\")\n",
    "cur_result = cur.fetchone()[0]\n",
    "\n",
    "if cur_result == 0:\n",
    "    for hero in heroes:\n",
    "        cur.execute(\"\"\"\n",
    "                    INSERt INTO heroes(first_name, last_name, release_date, hero_name, powers)\n",
    "                    VALUES (?, ?, ?, ?, ?)\n",
    "                    \"\"\", (hero['first_name'], hero['last_name'], hero['release_date'], hero['hero_name'], hero['powers']))\n",
    "        con.commit()\n",
    "\n",
    "cur.execute(\"SELECT * from heroes\")\n",
    "\n",
    "for row in cur.execute(\"SELECT * from heroes\"):\n",
    "    print(row) "
   ]
  }
 ],
 "metadata": {
  "kernelspec": {
   "display_name": ".venv",
   "language": "python",
   "name": "python3"
  },
  "language_info": {
   "codemirror_mode": {
    "name": "ipython",
    "version": 3
   },
   "file_extension": ".py",
   "mimetype": "text/x-python",
   "name": "python",
   "nbconvert_exporter": "python",
   "pygments_lexer": "ipython3",
   "version": "3.10.13"
  }
 },
 "nbformat": 4,
 "nbformat_minor": 2
}
