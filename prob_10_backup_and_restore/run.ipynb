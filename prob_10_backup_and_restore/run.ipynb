{
 "cells": [
  {
   "cell_type": "markdown",
   "metadata": {},
   "source": [
    "# Problem 10"
   ]
  },
  {
   "cell_type": "markdown",
   "metadata": {},
   "source": [
    "Task: Write scripts to backup and restore the database.\n",
    "\n",
    "- Create a backup of the current database.\n",
    "- Write a script to restore the database from the backup file."
   ]
  },
  {
   "cell_type": "markdown",
   "metadata": {},
   "source": [
    "### Database Creation"
   ]
  },
  {
   "cell_type": "code",
   "execution_count": 45,
   "metadata": {},
   "outputs": [
    {
     "data": {
      "text/plain": [
       "[('sqlite_sequence',), ('heroes',), ('villains',), ('arch_nemesis',)]"
      ]
     },
     "execution_count": 45,
     "metadata": {},
     "output_type": "execute_result"
    }
   ],
   "source": [
    "import sqlite3\n",
    "\n",
    "con = sqlite3.connect(\"heroes_villains.db\", timeout=10)\n",
    "cur = con.cursor()\n",
    "\n",
    "req_check_tables = cur.execute(\"SELECT name FROM sqlite_master\")\n",
    "res_check_tables = req_check_tables.fetchall()\n",
    "\n",
    "for table in res_check_tables:\n",
    "    if table[0] != 'sqlite_sequence':\n",
    "        cur.execute(f\"DROP TABLE IF EXISTS {table[0]}\")\n",
    "\n",
    "con.commit()    \n",
    "\n",
    "cur.execute(\"\"\"\n",
    "        CREATE TABLE heroes (\n",
    "            hero_id INTEGER PRIMARY KEY AUTOINCREMENT,\n",
    "            first_name TEXT NOT NULL,\n",
    "            last_name TEXT NOT NULL,\n",
    "            release_date INTEGER NOT NULL,\n",
    "            hero_name TEXT NOT NULL,\n",
    "            powers TEXT NOT NULL\n",
    "        )\n",
    "    \"\"\")\n",
    "con.commit()\n",
    "\n",
    "cur.execute(\"\"\"\n",
    "        CREATE TABLE villains(\n",
    "            villain_id INTEGER PRIMARY KEY AUTOINCREMENT,\n",
    "            first_name TEXT NOT NULL,\n",
    "            last_name TEXT NOT NULL,\n",
    "            release_date INTEGER NOT NULL,\n",
    "            villain_name TEXT NOT NULL,\n",
    "            powers TEXT NOT NULL\n",
    "        )\n",
    "    \"\"\")\n",
    "con.commit()\n",
    "\n",
    "cur.execute(\"\"\"\n",
    "        CREATE TABLE arch_nemesis(\n",
    "            id INTEGER PRIMARY KEY AUTOINCREMENT,\n",
    "            hero_id INTEGER NOT NULL,\n",
    "            villain_id INTEGER NOT NULL,\n",
    "            FOREIGN KEY(hero_id) REFERENCES heroes(hero_id)\n",
    "            FOREIGN KEY(villain_id) REFERENCES villains(villain_id)\n",
    "        )\n",
    "\"\"\")\n",
    "con.commit()\n",
    "\n",
    "req_fetch_all = cur.execute(\"SELECT name FROM sqlite_master WHERE type='table'\")\n",
    "req_fetch_all.fetchall()"
   ]
  },
  {
   "cell_type": "markdown",
   "metadata": {},
   "source": [
    "### Problem 1 Solution - create a table for superheroes "
   ]
  },
  {
   "cell_type": "code",
   "execution_count": 46,
   "metadata": {},
   "outputs": [
    {
     "name": "stdout",
     "output_type": "stream",
     "text": [
      "(1, 'Bruce', 'Vayne', 1939, 'Batman', 'Intelligent, Rich, Power Armor')\n",
      "(2, 'Barry', 'Allan', 1940, 'The Flash', 'Superspeed, Lightning Manipulation, Speed Force')\n",
      "(3, 'Tony', 'Stark', 1963, 'Ironman', 'Power Armor, Intelligent, Rich')\n",
      "(4, 'Peter', 'Parker', 1962, 'Spiderman', 'Super Sence, Spiderweb, athletic')\n"
     ]
    }
   ],
   "source": [
    "heroes = [\n",
    "    {'first_name':'Bruce', 'last_name':'Vayne', 'release_date':1939, 'hero_name':'Batman','powers':'Intelligent, Rich, Power Armor'},\n",
    "    {'first_name':'Barry', 'last_name': 'Allan', 'release_date':1940, 'hero_name':'The Flash','powers':'Superspeed, Lightning Manipulation, Speed Force'},\n",
    "    {'first_name':'Tony', 'last_name':'Stark','release_date':1963, 'hero_name':'Ironman','powers':'Power Armor, Intelligent, Rich'},\n",
    "    {'first_name':'Peter', 'last_name':'Parker','release_date':1962,'hero_name':'Spiderman','powers':'Super Sence, Spiderweb, athletic'},\n",
    "]\n",
    "\n",
    "# check if table has entries\n",
    "\n",
    "req_check_heroes_table = cur.execute(\"SELECT COUNT(*) FROM heroes\")\n",
    "res_check_heroes_table = req_check_heroes_table.fetchone()[0]\n",
    "\n",
    "if res_check_heroes_table == 0:\n",
    "    for hero in heroes:\n",
    "        cur.execute(\"\"\"\n",
    "                    INSERT INTO heroes (first_name, last_name, release_date, hero_name, powers)\n",
    "                    VALUES (?, ?, ?, ?, ?)\n",
    "                    \"\"\", (hero['first_name'], hero['last_name'], hero['release_date'], hero['hero_name'], hero['powers']))\n",
    "        con.commit()  \n",
    "        \n",
    "for row in cur.execute(\"SELECT * FROM heroes\"):\n",
    "    print(row)                   "
   ]
  },
  {
   "cell_type": "markdown",
   "metadata": {},
   "source": [
    "### Prolem 2 Solution - Create a new table for supervillains"
   ]
  },
  {
   "cell_type": "code",
   "execution_count": 47,
   "metadata": {},
   "outputs": [
    {
     "name": "stdout",
     "output_type": "stream",
     "text": [
      "(1, 'Arthur', 'Fleck', 2019, 'Joker', 'Master Manipulator, Chemical Engineer, Master Planner')\n",
      "(2, 'Eobard', 'Thawne', 1963, 'Reverse Flash', 'Negative Speed Force, Superspeed, Lightning Manipulation')\n",
      "(3, 'Gene', 'Kahn', 1964, 'Mandarin', 'Genius-level Intellect, Master of Martial Arts, Expert Strategist and Tactician')\n",
      "(4, 'Norman', 'Osborn', 1964, 'Green Goblin', 'Superhuman Strength, Superhuman Speed, Superhuman Refelexes')\n"
     ]
    }
   ],
   "source": [
    "villains = [\n",
    "    {'first_name':'Arthur','last_name':'Fleck','release_date':2019,'villain_name':'Joker','powers':'Master Manipulator, Chemical Engineer, Master Planner'},\n",
    "    {'first_name':'Eobard','last_name':'Thawne','release_date':1963,'villain_name':'Reverse Flash','powers':'Negative Speed Force, Superspeed, Lightning Manipulation'},\n",
    "    {'first_name':'Gene','last_name':'Kahn','release_date':1964,'villain_name':'Mandarin','powers':'Genius-level Intellect, Master of Martial Arts, Expert Strategist and Tactician'},\n",
    "    {'first_name':'Norman','last_name':'Osborn','release_date':1964,'villain_name':'Green Goblin','powers':'Superhuman Strength, Superhuman Speed, Superhuman Refelexes'},\n",
    "]\n",
    "\n",
    "req = cur.execute(\"SELECT COUNT(*) FROM villains\")\n",
    "res = cur.fetchone()[0]\n",
    "\n",
    "if res == 0:\n",
    "    for villain in villains:\n",
    "        cur.execute(\"\"\"\n",
    "                    INSERT INTO villains (first_name, last_name, release_date, villain_name, powers)\n",
    "                    VALUES (?, ?, ?, ?, ?)\n",
    "                    \"\"\", (villain['first_name'], villain['last_name'], villain['release_date'], villain['villain_name'], villain['powers']))\n",
    "        con.commit()\n",
    "\n",
    "for row in cur.execute(\"SELECT * FROM villains\"):\n",
    "    print(row)        "
   ]
  },
  {
   "cell_type": "markdown",
   "metadata": {},
   "source": [
    "### Problem 3 Solution - create a table to establish reletianship between heroes and villains"
   ]
  },
  {
   "cell_type": "code",
   "execution_count": 48,
   "metadata": {},
   "outputs": [
    {
     "name": "stdout",
     "output_type": "stream",
     "text": [
      "(1, 1, 1)\n",
      "(2, 2, 2)\n",
      "(3, 3, 3)\n",
      "(4, 4, 4)\n"
     ]
    }
   ],
   "source": [
    "# get hero id's\n",
    "req_heroes_ids = cur.execute(\"SELECT hero_id FROM heroes\")\n",
    "res_heroes_ids = req_heroes_ids.fetchall()\n",
    "\n",
    "# get villains id's\n",
    "req_villains = cur.execute(\"SELECT villain_id FROM villains\")\n",
    "res_villains_ids = req_villains.fetchall()\n",
    "\n",
    "for hero_id, villain_id in zip(res_heroes_ids, res_villains_ids):\n",
    "    cur.execute(\"\"\"\n",
    "                INSERT INTO arch_nemesis (hero_id, villain_id)\n",
    "                VALUES (?, ?)\n",
    "                \"\"\", (hero_id[0], villain_id[0]))\n",
    "    con.commit()\n",
    "\n",
    "for row in cur.execute(\"SELECT * FROM arch_nemesis\"):\n",
    "    print(row)    "
   ]
  },
  {
   "cell_type": "markdown",
   "metadata": {},
   "source": [
    "### Problem 4 Solution - Update the powers of a chosen hero or villain"
   ]
  },
  {
   "cell_type": "code",
   "execution_count": 49,
   "metadata": {},
   "outputs": [
    {
     "name": "stdout",
     "output_type": "stream",
     "text": [
      "(1, 'Bruce', 'Vayne', 1939, 'Batman', 'Intelligent, Rich, Power Armor')\n",
      "(2, 'Barry', 'Allan', 1940, 'The Flash', 'Superspeed, Lightning Manipulation, Speed Force')\n",
      "(3, 'Tony', 'Stark', 1963, 'Ironman', 'NEW, RANDOM, POWERS, !')\n",
      "(4, 'Peter', 'Parker', 1962, 'Spiderman', 'Super Sence, Spiderweb, athletic')\n"
     ]
    }
   ],
   "source": [
    "import random\n",
    "\n",
    "cur.execute(f\"UPDATE heroes SET powers='NEW, RANDOM, POWERS, !' WHERE hero_id={random.randint(1,4)}\")\n",
    "\n",
    "con.commit()\n",
    "\n",
    "for row in cur.execute(\"SELECT * FROM heroes\"):\n",
    "    print(row)"
   ]
  },
  {
   "cell_type": "markdown",
   "metadata": {},
   "source": [
    "### Problem 5 Solution - Delete a record"
   ]
  },
  {
   "cell_type": "code",
   "execution_count": 50,
   "metadata": {},
   "outputs": [
    {
     "name": "stdout",
     "output_type": "stream",
     "text": [
      "(2, 'Barry', 'Allan', 1940, 'The Flash', 'Superspeed, Lightning Manipulation, Speed Force')\n",
      "(3, 'Tony', 'Stark', 1963, 'Ironman', 'NEW, RANDOM, POWERS, !')\n",
      "(4, 'Peter', 'Parker', 1962, 'Spiderman', 'Super Sence, Spiderweb, athletic')\n"
     ]
    }
   ],
   "source": [
    "import random\n",
    "\n",
    "cur.execute(f\"DELETE FROM heroes WHERE hero_id={random.randint(1,4)}\")\n",
    "\n",
    "con.commit()\n",
    "\n",
    "for row in cur.execute(\"SELECT * FROM heroes\"):\n",
    "    print(row)"
   ]
  },
  {
   "cell_type": "markdown",
   "metadata": {},
   "source": [
    "### Problem 6 Solution - query with parameters (before certain release year)"
   ]
  },
  {
   "cell_type": "code",
   "execution_count": 51,
   "metadata": {},
   "outputs": [
    {
     "name": "stdout",
     "output_type": "stream",
     "text": [
      "FROM HEROES TABLE:\n",
      "(3, 'Tony', 'Stark', 1963, 'Ironman', 'NEW, RANDOM, POWERS, !')\n",
      "(4, 'Peter', 'Parker', 1962, 'Spiderman', 'Super Sence, Spiderweb, athletic')\n",
      "FROM VILLAINS TABLE:\n"
     ]
    }
   ],
   "source": [
    "import random\n",
    "\n",
    "print(\"FROM HEROES TABLE:\")\n",
    "for row in cur.execute(\"SELECT * FROM heroes WHERE release_date > 1959\"):\n",
    "    print(row)\n",
    "\n",
    "print(\"FROM VILLAINS TABLE:\")\n",
    "for row in cur.execute(\"SELECT * FROM villains WHERE release_date < 1959\"):\n",
    "    print(row)"
   ]
  },
  {
   "cell_type": "markdown",
   "metadata": {},
   "source": [
    "### Problem 7 Solution - Join querry"
   ]
  },
  {
   "cell_type": "code",
   "execution_count": 52,
   "metadata": {},
   "outputs": [
    {
     "name": "stdout",
     "output_type": "stream",
     "text": [
      "hero: The Flash, arch nemmesis: Reverse Flash\n",
      "hero: Ironman, arch nemmesis: Mandarin\n",
      "hero: Spiderman, arch nemmesis: Green Goblin\n"
     ]
    }
   ],
   "source": [
    "# Join query to find the arch-nemesis of each hero using INNER JOIN and USING\n",
    "cur.execute(\"\"\"\n",
    "    SELECT\n",
    "        heroes.hero_name AS hero,\n",
    "        villains.villain_name AS villain\n",
    "    FROM\n",
    "        arch_nemesis\n",
    "    INNER JOIN\n",
    "        heroes USING (hero_id)\n",
    "    INNER JOIN    \n",
    "        villains USING (villain_id);    \n",
    "\"\"\")\n",
    "\n",
    "# Print the results\n",
    "for row in cur.fetchall():\n",
    "    print(f\"hero: {row[0]}, arch nemmesis: {row[1]}\")\n"
   ]
  },
  {
   "cell_type": "markdown",
   "metadata": {},
   "source": [
    "### Problem 8 Solution - Create and use indexes"
   ]
  },
  {
   "cell_type": "code",
   "execution_count": 53,
   "metadata": {},
   "outputs": [
    {
     "name": "stdout",
     "output_type": "stream",
     "text": [
      "(2, 'Barry', 'Allan', 1940, 'The Flash', 'Superspeed, Lightning Manipulation, Speed Force')\n",
      "(4, 'Peter', 'Parker', 1962, 'Spiderman', 'Super Sence, Spiderweb, athletic')\n",
      "(3, 'Tony', 'Stark', 1963, 'Ironman', 'NEW, RANDOM, POWERS, !')\n",
      "Time using index: 0.0\n",
      "(1940,)\n",
      "(1962,)\n",
      "(1963,)\n",
      "Time using heroes table: 0.0\n"
     ]
    }
   ],
   "source": [
    "import time\n",
    "\n",
    "cur.execute(\"DROP TABLE IF EXISTS idx_release_date\")\n",
    "\n",
    "cur.execute(\"\"\"\n",
    "            CREATE INDEX \n",
    "                idx_release_date\n",
    "            ON\n",
    "                heroes (release_date)\n",
    "            \n",
    "            \"\"\")\n",
    "con.commit()\n",
    "\n",
    "# Measure time using the index\n",
    "start = time.process_time()\n",
    "for row in cur.execute(\"SELECT * FROM heroes ORDER BY release_date;\"):\n",
    "    print(row)\n",
    "end = time.process_time()\n",
    "print(f\"Time using index: {end - start}\")\n",
    "\n",
    "# Measure time without using the index\n",
    "start = time.process_time()\n",
    "for row in cur.execute(\"SELECT release_date FROM heroes;\"):\n",
    "    print(row)\n",
    "end = time.process_time()\n",
    "print(f\"Time using heroes table: {end - start}\")"
   ]
  },
  {
   "cell_type": "markdown",
   "metadata": {},
   "source": [
    "### Problem 9 Solution - aggregate functions"
   ]
  },
  {
   "cell_type": "code",
   "execution_count": 54,
   "metadata": {},
   "outputs": [
    {
     "name": "stdout",
     "output_type": "stream",
     "text": [
      "Average release year for heroes: 1955.0\n",
      "Number of heroes with Intelligent: 0\n",
      "Number of heroes with Super: 2\n"
     ]
    }
   ],
   "source": [
    "req_average_release_year = cur.execute(\"SELECT avg(release_date) FROM heroes\")\n",
    "res_average_release_year = req_average_release_year.fetchone()[0]\n",
    "print(f\"Average release year for heroes: {res_average_release_year}\")\n",
    "\n",
    "power_to_seach = 'Intelligent'\n",
    "req_specific_power = cur.execute(\"SELECT COUNT(*) FROM heroes WHERE powers LIKE ?\", ('%' + power_to_seach + '%',))\n",
    "res_specific_power = cur.fetchone()[0]\n",
    "print(f\"Number of heroes with {power_to_seach}: {res_specific_power}\")\n",
    "\n",
    "power_to_search = 'Super'\n",
    "req_specific_power = cur.execute(\"SELECT COUNT(*) FROM villains WHERE powers LIKE ?\", ('%' + power_to_search + '%',))\n",
    "res_specific_power = req_specific_power.fetchone()[0]\n",
    "print(f\"Number of heroes with {power_to_search}: {res_specific_power}\")"
   ]
  },
  {
   "cell_type": "markdown",
   "metadata": {},
   "source": [
    "### Problem 10 Solution - Back and restore"
   ]
  },
  {
   "cell_type": "code",
   "execution_count": 55,
   "metadata": {},
   "outputs": [
    {
     "name": "stdout",
     "output_type": "stream",
     "text": [
      "Backup performed successfully!\n",
      "Data saved as heroes_villains_backup.sql\n"
     ]
    }
   ],
   "source": [
    "import io\n",
    "\n",
    "with io.open('heroes_villains_backup.sql', 'w') as p:\n",
    "    for line in con.iterdump():\n",
    "        p.write('{}\\n'.format(line))\n",
    "print('Backup performed successfully!')\n",
    "print('Data saved as heroes_villains_backup.sql')"
   ]
  }
 ],
 "metadata": {
  "kernelspec": {
   "display_name": "Python 3",
   "language": "python",
   "name": "python3"
  },
  "language_info": {
   "codemirror_mode": {
    "name": "ipython",
    "version": 3
   },
   "file_extension": ".py",
   "mimetype": "text/x-python",
   "name": "python",
   "nbconvert_exporter": "python",
   "pygments_lexer": "ipython3",
   "version": "3.12.2"
  }
 },
 "nbformat": 4,
 "nbformat_minor": 2
}
